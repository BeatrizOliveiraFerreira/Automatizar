{
 "cells": [
  {
   "cell_type": "markdown",
   "id": "d00f673f",
   "metadata": {},
   "source": [
    " Automatizando com pyautogui"
   ]
  },
  {
   "cell_type": "code",
   "execution_count": 11,
   "id": "e1d4579d",
   "metadata": {},
   "outputs": [],
   "source": [
    "import pyautogui\n",
    "import pyperclip\n",
    "import time\n",
    "pyautogui.PAUSE = 1\n",
    "pyautogui.press('win')\n",
    "pyautogui.write('Edge')\n",
    "pyautogui.press('enter')\n",
    "time.sleep(5)\n",
    "pyautogui.write('https://docs.microsoft.com/pt-br/learn/certifications/exams/dp-900')\n",
    "pyautogui.press('enter')\n",
    "pyautogui.hotkey('ctrl', 't')\n",
    "time.sleep(5)\n",
    "pyperclip.copy('https://azure.microsoft.com/pt-br/')\n",
    "pyautogui.hotkey('ctrl', 'v')\n",
    "pyautogui.press('enter')\n",
    "pyautogui.click(1849,151, clicks=2)\n",
    "time.sleep(5)\n",
    "pyautogui.click(1845,127)\n",
    "pyautogui.click(1777,336)\n",
    "time.sleep(7)\n",
    "pyautogui.click(523,309)"
   ]
  },
  {
   "cell_type": "code",
   "execution_count": 6,
   "id": "5d7fd1af",
   "metadata": {},
   "outputs": [
    {
     "data": {
      "text/plain": [
       "Point(x=500, y=354)"
      ]
     },
     "execution_count": 6,
     "metadata": {},
     "output_type": "execute_result"
    }
   ],
   "source": [
    "import time\n",
    "time.sleep(5)\n",
    "pyautogui.position()"
   ]
  },
  {
   "cell_type": "code",
   "execution_count": null,
   "id": "1ca27c8c",
   "metadata": {},
   "outputs": [],
   "source": []
  }
 ],
 "metadata": {
  "kernelspec": {
   "display_name": "Python 3 (ipykernel)",
   "language": "python",
   "name": "python3"
  },
  "language_info": {
   "codemirror_mode": {
    "name": "ipython",
    "version": 3
   },
   "file_extension": ".py",
   "mimetype": "text/x-python",
   "name": "python",
   "nbconvert_exporter": "python",
   "pygments_lexer": "ipython3",
   "version": "3.9.7"
  }
 },
 "nbformat": 4,
 "nbformat_minor": 5
}
